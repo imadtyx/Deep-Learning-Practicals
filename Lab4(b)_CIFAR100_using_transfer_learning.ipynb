{
  "nbformat": 4,
  "nbformat_minor": 0,
  "metadata": {
    "accelerator": "GPU",
    "colab": {
      "name": "Lab4(b)-CIFAR100 using transfer learning.ipynb",
      "provenance": [],
      "collapsed_sections": []
    },
    "kernelspec": {
      "display_name": "Python 3",
      "language": "python",
      "name": "python3"
    },
    "language_info": {
      "codemirror_mode": {
        "name": "ipython",
        "version": 3
      },
      "file_extension": ".py",
      "mimetype": "text/x-python",
      "name": "python",
      "nbconvert_exporter": "python",
      "pygments_lexer": "ipython3",
      "version": "3.5.3"
    }
  },
  "cells": [
    {
      "cell_type": "markdown",
      "metadata": {
        "id": "sLIGEQt6q2et",
        "colab_type": "text"
      },
      "source": [
        "# CIFAR100 Transfer Learning based Classifier\n",
        "\n",
        "This notebook outlines the steps to build a classifier to leverage concepts of Transfer Learning by utilizing a pretrained Deep-CNN. \n",
        "Particularly in this case based on VGG16"
      ]
    },
    {
      "cell_type": "code",
      "metadata": {
        "colab_type": "code",
        "id": "qpwpUhVod2ob",
        "colab": {}
      },
      "source": [
        "# Pandas and Numpy for data structures and util fucntions\n",
        "import scipy as sp\n",
        "import numpy as np\n",
        "import pandas as pd\n",
        "from numpy.random import rand\n",
        "pd.options.display.max_colwidth = 600\n",
        "\n",
        "# Scikit Imports\n",
        "from sklearn import preprocessing\n",
        "from sklearn.metrics import roc_curve, auc, precision_recall_curve\n",
        "from sklearn.model_selection import train_test_split\n",
        "\n",
        "# import cnn_utils as utils\n",
        "# from model_evaluation_utils import get_metrics\n",
        "\n",
        "# Matplot Imports\n",
        "import matplotlib.pyplot as plt\n",
        "params = {'legend.fontsize': 'x-large',\n",
        "          'figure.figsize': (15, 5),\n",
        "          'axes.labelsize': 'x-large',\n",
        "          'axes.titlesize':'x-large',\n",
        "          'xtick.labelsize':'x-large',\n",
        "          'ytick.labelsize':'x-large'}\n",
        "\n",
        "plt.rcParams.update(params)\n",
        "%matplotlib inline\n",
        "\n",
        "# pandas display data frames as tables\n",
        "from IPython.display import display, HTML\n",
        "\n",
        "import warnings\n",
        "warnings.filterwarnings('ignore')"
      ],
      "execution_count": 1,
      "outputs": []
    },
    {
      "cell_type": "code",
      "metadata": {
        "colab_type": "code",
        "id": "VB1artr2KuLD",
        "colab": {}
      },
      "source": [
        "import tensorflow as tf\n",
        "from tensorflow.keras import callbacks\n",
        "from tensorflow.keras import optimizers\n",
        "from tensorflow.keras.datasets import cifar100\n",
        "# from tensorflow.python.keras.engine import Model\n",
        "from tensorflow.keras.applications import vgg16 as vgg\n",
        "from tensorflow.keras.layers import Dropout, Flatten, Dense, GlobalAveragePooling2D,BatchNormalization\n",
        "from tensorflow.keras.preprocessing.image import ImageDataGenerator\n",
        "from tensorflow.keras.utils import to_categorical"
      ],
      "execution_count": 4,
      "outputs": []
    },
    {
      "cell_type": "markdown",
      "metadata": {
        "id": "NZg3n7q6q2e6",
        "colab_type": "text"
      },
      "source": [
        "## Load and Prepare Dataset"
      ]
    },
    {
      "cell_type": "code",
      "metadata": {
        "colab_type": "code",
        "id": "fS8uGXn5dgRU",
        "colab": {}
      },
      "source": [
        "BATCH_SIZE = 32\n",
        "EPOCHS = 40\n",
        "NUM_CLASSES = 100\n",
        "LEARNING_RATE = 1e-4\n",
        "MOMENTUM = 0.9"
      ],
      "execution_count": 8,
      "outputs": []
    },
    {
      "cell_type": "code",
      "metadata": {
        "colab_type": "code",
        "id": "PoT9P1phLuyT",
        "colab": {
          "base_uri": "https://localhost:8080/",
          "height": 50
        },
        "outputId": "e5020543-676a-419a-fb64-9b079143537d"
      },
      "source": [
        "(X_train, y_train), (X_test, y_test) = cifar100.load_data()"
      ],
      "execution_count": 6,
      "outputs": [
        {
          "output_type": "stream",
          "text": [
            "Downloading data from https://www.cs.toronto.edu/~kriz/cifar-100-python.tar.gz\n",
            "169009152/169001437 [==============================] - 6s 0us/step\n"
          ],
          "name": "stdout"
        }
      ]
    },
    {
      "cell_type": "markdown",
      "metadata": {
        "id": "cRyJgrOAq2fE",
        "colab_type": "text"
      },
      "source": [
        "Split training dataset in train and validation sets"
      ]
    },
    {
      "cell_type": "code",
      "metadata": {
        "colab_type": "code",
        "id": "khNrl8nHqesu",
        "colab": {}
      },
      "source": [
        "X_train, X_val, y_train, y_val = train_test_split(X_train, \n",
        "                                                  y_train, \n",
        "                                                  test_size=0.15, \n",
        "                                                  stratify=np.array(y_train), \n",
        "                                                  random_state=42)"
      ],
      "execution_count": 7,
      "outputs": []
    },
    {
      "cell_type": "markdown",
      "metadata": {
        "id": "iSDBRhw8q2fI",
        "colab_type": "text"
      },
      "source": [
        "Transform target variable/labels into one hot encoded form"
      ]
    },
    {
      "cell_type": "code",
      "metadata": {
        "colab_type": "code",
        "id": "IJdZ6DLUqu-P",
        "colab": {}
      },
      "source": [
        "Y_train = to_categorical(y_train, NUM_CLASSES)\n",
        "Y_val = to_categorical(y_val, NUM_CLASSES)\n",
        "Y_test = to_categorical(y_test, NUM_CLASSES)"
      ],
      "execution_count": 9,
      "outputs": []
    },
    {
      "cell_type": "markdown",
      "metadata": {
        "id": "RDPx9LAlq2fM",
        "colab_type": "text"
      },
      "source": [
        "### Preprocessing\n",
        "\n",
        "Since we are about to use VGG16 as a feature extractor, the minimum size of an image it takes is 48x48.\n",
        "We utilize ```scipy`` to resize images to required dimensions"
      ]
    },
    {
      "cell_type": "code",
      "metadata": {
        "colab_type": "code",
        "id": "6udZF8zHbTaR",
        "colab": {}
      },
      "source": [
        "from PIL import Image\n",
        "\n",
        "X_train = np.array([np.array(Image.fromarray(x).resize((48, 48))) for x in X_train])\n",
        "\n",
        "X_val = np.array([np.array(Image.fromarray(x).resize((48, 48))) for x in X_val])\n",
        "\n",
        "X_test = np.array([np.array(Image.fromarray(x).resize((48, 48))) for x in X_test])"
      ],
      "execution_count": 10,
      "outputs": []
    },
    {
      "cell_type": "markdown",
      "metadata": {
        "id": "qkW3VUixq2fR",
        "colab_type": "text"
      },
      "source": [
        "## Prepare the Model\n",
        "\n",
        "* Load VGG16 without the top classification layer\n",
        "* Prepare a custom classifier\n",
        "* Stack both models on top of each other"
      ]
    },
    {
      "cell_type": "code",
      "metadata": {
        "colab_type": "code",
        "id": "j2py7602Kxlq",
        "colab": {
          "base_uri": "https://localhost:8080/",
          "height": 50
        },
        "outputId": "798ddddf-dd1b-44cf-f3ec-71d799d96162"
      },
      "source": [
        "base_model = vgg.VGG16(weights='imagenet', \n",
        "                       include_top=False, \n",
        "                       input_shape=(48, 48, 3))"
      ],
      "execution_count": 11,
      "outputs": [
        {
          "output_type": "stream",
          "text": [
            "Downloading data from https://storage.googleapis.com/tensorflow/keras-applications/vgg16/vgg16_weights_tf_dim_ordering_tf_kernels_notop.h5\n",
            "58892288/58889256 [==============================] - 1s 0us/step\n"
          ],
          "name": "stdout"
        }
      ]
    },
    {
      "cell_type": "code",
      "metadata": {
        "colab_type": "code",
        "id": "iI9P8ni-L8H8",
        "colab": {}
      },
      "source": [
        "# Extract the last layer from third block of vgg16 model\n",
        "last = base_model.get_layer('block3_pool').output"
      ],
      "execution_count": 12,
      "outputs": []
    },
    {
      "cell_type": "code",
      "metadata": {
        "colab_type": "code",
        "id": "MI90lh6hL9ua",
        "colab": {}
      },
      "source": [
        "# Add classification layers on top of it\n",
        "from tensorflow.keras import Model\n",
        "\n",
        "x = GlobalAveragePooling2D()(last)\n",
        "x= BatchNormalization()(x)\n",
        "x = Dense(256, activation='relu')(x)\n",
        "x = Dense(256, activation='relu')(x)\n",
        "x = Dropout(0.6)(x)\n",
        "pred = Dense(NUM_CLASSES, activation='softmax')(x)\n",
        "model = Model(base_model.input, pred)"
      ],
      "execution_count": 13,
      "outputs": []
    },
    {
      "cell_type": "markdown",
      "metadata": {
        "id": "PcLJqW-cq2fd",
        "colab_type": "text"
      },
      "source": [
        "Since our objective is to only train the custom classifier, we freeze the layers of VGG16"
      ]
    },
    {
      "cell_type": "code",
      "metadata": {
        "colab_type": "code",
        "id": "fc3EhfLTMD4I",
        "colab": {}
      },
      "source": [
        "for layer in base_model.layers:\n",
        "     layer.trainable = False"
      ],
      "execution_count": 14,
      "outputs": []
    },
    {
      "cell_type": "code",
      "metadata": {
        "colab_type": "code",
        "id": "PRXPI3DCMIIK",
        "colab": {}
      },
      "source": [
        "model.compile(loss='binary_crossentropy',\n",
        "              optimizer=optimizers.Adam(lr=LEARNING_RATE),\n",
        "              metrics=['accuracy'])"
      ],
      "execution_count": 15,
      "outputs": []
    },
    {
      "cell_type": "code",
      "metadata": {
        "colab_type": "code",
        "id": "PATZIBLlMLrf",
        "colab": {
          "base_uri": "https://localhost:8080/",
          "height": 722
        },
        "outputId": "531cae8b-1ecd-4722-9287-aa3a7c236bba"
      },
      "source": [
        "model.summary()"
      ],
      "execution_count": 16,
      "outputs": [
        {
          "output_type": "stream",
          "text": [
            "Model: \"functional_1\"\n",
            "_________________________________________________________________\n",
            "Layer (type)                 Output Shape              Param #   \n",
            "=================================================================\n",
            "input_1 (InputLayer)         [(None, 48, 48, 3)]       0         \n",
            "_________________________________________________________________\n",
            "block1_conv1 (Conv2D)        (None, 48, 48, 64)        1792      \n",
            "_________________________________________________________________\n",
            "block1_conv2 (Conv2D)        (None, 48, 48, 64)        36928     \n",
            "_________________________________________________________________\n",
            "block1_pool (MaxPooling2D)   (None, 24, 24, 64)        0         \n",
            "_________________________________________________________________\n",
            "block2_conv1 (Conv2D)        (None, 24, 24, 128)       73856     \n",
            "_________________________________________________________________\n",
            "block2_conv2 (Conv2D)        (None, 24, 24, 128)       147584    \n",
            "_________________________________________________________________\n",
            "block2_pool (MaxPooling2D)   (None, 12, 12, 128)       0         \n",
            "_________________________________________________________________\n",
            "block3_conv1 (Conv2D)        (None, 12, 12, 256)       295168    \n",
            "_________________________________________________________________\n",
            "block3_conv2 (Conv2D)        (None, 12, 12, 256)       590080    \n",
            "_________________________________________________________________\n",
            "block3_conv3 (Conv2D)        (None, 12, 12, 256)       590080    \n",
            "_________________________________________________________________\n",
            "block3_pool (MaxPooling2D)   (None, 6, 6, 256)         0         \n",
            "_________________________________________________________________\n",
            "global_average_pooling2d (Gl (None, 256)               0         \n",
            "_________________________________________________________________\n",
            "batch_normalization (BatchNo (None, 256)               1024      \n",
            "_________________________________________________________________\n",
            "dense (Dense)                (None, 256)               65792     \n",
            "_________________________________________________________________\n",
            "dense_1 (Dense)              (None, 256)               65792     \n",
            "_________________________________________________________________\n",
            "dropout (Dropout)            (None, 256)               0         \n",
            "_________________________________________________________________\n",
            "dense_2 (Dense)              (None, 100)               25700     \n",
            "=================================================================\n",
            "Total params: 1,893,796\n",
            "Trainable params: 157,796\n",
            "Non-trainable params: 1,736,000\n",
            "_________________________________________________________________\n"
          ],
          "name": "stdout"
        }
      ]
    },
    {
      "cell_type": "markdown",
      "metadata": {
        "id": "f-XIeKhcq2fp",
        "colab_type": "text"
      },
      "source": [
        "## Data Augmentation\n",
        "\n",
        "To help model generalize and overcome the limitations of a small dataset, we prepare augmented datasets using \n",
        "```keras ``` utilities"
      ]
    },
    {
      "cell_type": "code",
      "metadata": {
        "colab_type": "code",
        "id": "_Y-jNseQMNcf",
        "colab": {}
      },
      "source": [
        "# prepare data augmentation configuration\n",
        "train_datagen = ImageDataGenerator(\n",
        "    rescale=1. / 255,\n",
        "    horizontal_flip=False)"
      ],
      "execution_count": 17,
      "outputs": []
    },
    {
      "cell_type": "code",
      "metadata": {
        "colab_type": "code",
        "id": "mHPmLOf-N3SQ",
        "colab": {}
      },
      "source": [
        "train_datagen.fit(X_train)\n",
        "train_generator = train_datagen.flow(X_train,\n",
        "                                     Y_train, \n",
        "                                     batch_size=BATCH_SIZE)"
      ],
      "execution_count": 18,
      "outputs": []
    },
    {
      "cell_type": "code",
      "metadata": {
        "colab_type": "code",
        "id": "JSIJycdbrBWK",
        "colab": {}
      },
      "source": [
        "val_datagen = ImageDataGenerator(rescale=1. / 255,\n",
        "    horizontal_flip=False)\n",
        "\n",
        "val_datagen.fit(X_val)\n",
        "val_generator = val_datagen.flow(X_val,\n",
        "                                 Y_val,\n",
        "                                 batch_size=BATCH_SIZE)"
      ],
      "execution_count": 19,
      "outputs": []
    },
    {
      "cell_type": "markdown",
      "metadata": {
        "id": "Pk6Vr7yVq2f1",
        "colab_type": "text"
      },
      "source": [
        "## Train the Model"
      ]
    },
    {
      "cell_type": "code",
      "metadata": {
        "colab_type": "code",
        "id": "upzna-SWcdVK",
        "scrolled": false,
        "colab": {
          "base_uri": "https://localhost:8080/",
          "height": 1000
        },
        "outputId": "95692b62-3869-4502-fe95-140558fcd68e"
      },
      "source": [
        "train_steps_per_epoch = X_train.shape[0] // BATCH_SIZE\n",
        "val_steps_per_epoch = X_val.shape[0] // BATCH_SIZE\n",
        "\n",
        "history = model.fit_generator(train_generator,\n",
        "                              steps_per_epoch=train_steps_per_epoch,\n",
        "                              validation_data=val_generator,\n",
        "                              validation_steps=val_steps_per_epoch,\n",
        "                              epochs=EPOCHS,\n",
        "                              verbose=1)"
      ],
      "execution_count": 20,
      "outputs": [
        {
          "output_type": "stream",
          "text": [
            "WARNING:tensorflow:From <ipython-input-20-38ab0eb7bcd0>:9: Model.fit_generator (from tensorflow.python.keras.engine.training) is deprecated and will be removed in a future version.\n",
            "Instructions for updating:\n",
            "Please use Model.fit, which supports generators.\n",
            "Epoch 1/40\n",
            "1328/1328 [==============================] - 11s 8ms/step - loss: 0.0533 - accuracy: 0.0580 - val_loss: 0.0469 - val_accuracy: 0.1846\n",
            "Epoch 2/40\n",
            "1328/1328 [==============================] - 10s 8ms/step - loss: 0.0470 - accuracy: 0.1415 - val_loss: 0.0414 - val_accuracy: 0.2624\n",
            "Epoch 3/40\n",
            "1328/1328 [==============================] - 10s 8ms/step - loss: 0.0433 - accuracy: 0.1928 - val_loss: 0.0384 - val_accuracy: 0.3050\n",
            "Epoch 4/40\n",
            "1328/1328 [==============================] - 10s 8ms/step - loss: 0.0409 - accuracy: 0.2337 - val_loss: 0.0364 - val_accuracy: 0.3325\n",
            "Epoch 5/40\n",
            "1328/1328 [==============================] - 10s 8ms/step - loss: 0.0392 - accuracy: 0.2588 - val_loss: 0.0350 - val_accuracy: 0.3522\n",
            "Epoch 6/40\n",
            "1328/1328 [==============================] - 10s 8ms/step - loss: 0.0380 - accuracy: 0.2824 - val_loss: 0.0340 - val_accuracy: 0.3726\n",
            "Epoch 7/40\n",
            "1328/1328 [==============================] - 10s 8ms/step - loss: 0.0368 - accuracy: 0.2999 - val_loss: 0.0331 - val_accuracy: 0.3850\n",
            "Epoch 8/40\n",
            "1328/1328 [==============================] - 10s 8ms/step - loss: 0.0360 - accuracy: 0.3138 - val_loss: 0.0325 - val_accuracy: 0.3913\n",
            "Epoch 9/40\n",
            "1328/1328 [==============================] - 11s 8ms/step - loss: 0.0353 - accuracy: 0.3297 - val_loss: 0.0318 - val_accuracy: 0.4025\n",
            "Epoch 10/40\n",
            "1328/1328 [==============================] - 11s 8ms/step - loss: 0.0345 - accuracy: 0.3425 - val_loss: 0.0314 - val_accuracy: 0.4113\n",
            "Epoch 11/40\n",
            "1328/1328 [==============================] - 11s 8ms/step - loss: 0.0340 - accuracy: 0.3530 - val_loss: 0.0310 - val_accuracy: 0.4144\n",
            "Epoch 12/40\n",
            "1328/1328 [==============================] - 10s 8ms/step - loss: 0.0336 - accuracy: 0.3607 - val_loss: 0.0306 - val_accuracy: 0.4199\n",
            "Epoch 13/40\n",
            "1328/1328 [==============================] - 10s 8ms/step - loss: 0.0331 - accuracy: 0.3662 - val_loss: 0.0303 - val_accuracy: 0.4259\n",
            "Epoch 14/40\n",
            "1328/1328 [==============================] - 10s 8ms/step - loss: 0.0326 - accuracy: 0.3769 - val_loss: 0.0299 - val_accuracy: 0.4292\n",
            "Epoch 15/40\n",
            "1328/1328 [==============================] - 11s 8ms/step - loss: 0.0322 - accuracy: 0.3843 - val_loss: 0.0296 - val_accuracy: 0.4375\n",
            "Epoch 16/40\n",
            "1328/1328 [==============================] - 10s 8ms/step - loss: 0.0319 - accuracy: 0.3886 - val_loss: 0.0294 - val_accuracy: 0.4407\n",
            "Epoch 17/40\n",
            "1328/1328 [==============================] - 11s 8ms/step - loss: 0.0316 - accuracy: 0.3939 - val_loss: 0.0292 - val_accuracy: 0.4485\n",
            "Epoch 18/40\n",
            "1328/1328 [==============================] - 11s 8ms/step - loss: 0.0314 - accuracy: 0.4013 - val_loss: 0.0290 - val_accuracy: 0.4485\n",
            "Epoch 19/40\n",
            "1328/1328 [==============================] - 11s 8ms/step - loss: 0.0310 - accuracy: 0.4085 - val_loss: 0.0288 - val_accuracy: 0.4509\n",
            "Epoch 20/40\n",
            "1328/1328 [==============================] - 10s 8ms/step - loss: 0.0309 - accuracy: 0.4056 - val_loss: 0.0287 - val_accuracy: 0.4525\n",
            "Epoch 21/40\n",
            "1328/1328 [==============================] - 10s 8ms/step - loss: 0.0306 - accuracy: 0.4140 - val_loss: 0.0285 - val_accuracy: 0.4599\n",
            "Epoch 22/40\n",
            "1328/1328 [==============================] - 10s 8ms/step - loss: 0.0304 - accuracy: 0.4195 - val_loss: 0.0284 - val_accuracy: 0.4609\n",
            "Epoch 23/40\n",
            "1328/1328 [==============================] - 10s 8ms/step - loss: 0.0302 - accuracy: 0.4219 - val_loss: 0.0283 - val_accuracy: 0.4602\n",
            "Epoch 24/40\n",
            "1328/1328 [==============================] - 10s 8ms/step - loss: 0.0299 - accuracy: 0.4276 - val_loss: 0.0282 - val_accuracy: 0.4641\n",
            "Epoch 25/40\n",
            "1328/1328 [==============================] - 11s 8ms/step - loss: 0.0297 - accuracy: 0.4313 - val_loss: 0.0280 - val_accuracy: 0.4641\n",
            "Epoch 26/40\n",
            "1328/1328 [==============================] - 10s 8ms/step - loss: 0.0295 - accuracy: 0.4323 - val_loss: 0.0279 - val_accuracy: 0.4701\n",
            "Epoch 27/40\n",
            "1328/1328 [==============================] - 10s 8ms/step - loss: 0.0294 - accuracy: 0.4344 - val_loss: 0.0278 - val_accuracy: 0.4653\n",
            "Epoch 28/40\n",
            "1328/1328 [==============================] - 10s 8ms/step - loss: 0.0292 - accuracy: 0.4389 - val_loss: 0.0277 - val_accuracy: 0.4679\n",
            "Epoch 29/40\n",
            "1328/1328 [==============================] - 10s 8ms/step - loss: 0.0290 - accuracy: 0.4416 - val_loss: 0.0276 - val_accuracy: 0.4730\n",
            "Epoch 30/40\n",
            "1328/1328 [==============================] - 11s 8ms/step - loss: 0.0289 - accuracy: 0.4433 - val_loss: 0.0276 - val_accuracy: 0.4748\n",
            "Epoch 31/40\n",
            "1328/1328 [==============================] - 11s 8ms/step - loss: 0.0288 - accuracy: 0.4466 - val_loss: 0.0274 - val_accuracy: 0.4781\n",
            "Epoch 32/40\n",
            "1328/1328 [==============================] - 10s 8ms/step - loss: 0.0285 - accuracy: 0.4502 - val_loss: 0.0273 - val_accuracy: 0.4792\n",
            "Epoch 33/40\n",
            "1328/1328 [==============================] - 11s 8ms/step - loss: 0.0285 - accuracy: 0.4527 - val_loss: 0.0273 - val_accuracy: 0.4777\n",
            "Epoch 34/40\n",
            "1328/1328 [==============================] - 10s 8ms/step - loss: 0.0283 - accuracy: 0.4541 - val_loss: 0.0272 - val_accuracy: 0.4825\n",
            "Epoch 35/40\n",
            "1328/1328 [==============================] - 11s 8ms/step - loss: 0.0282 - accuracy: 0.4575 - val_loss: 0.0272 - val_accuracy: 0.4793\n",
            "Epoch 36/40\n",
            "1328/1328 [==============================] - 10s 8ms/step - loss: 0.0280 - accuracy: 0.4601 - val_loss: 0.0271 - val_accuracy: 0.4814\n",
            "Epoch 37/40\n",
            "1328/1328 [==============================] - 10s 8ms/step - loss: 0.0279 - accuracy: 0.4613 - val_loss: 0.0271 - val_accuracy: 0.4850\n",
            "Epoch 38/40\n",
            "1328/1328 [==============================] - 11s 8ms/step - loss: 0.0279 - accuracy: 0.4663 - val_loss: 0.0270 - val_accuracy: 0.4836\n",
            "Epoch 39/40\n",
            "1328/1328 [==============================] - 11s 8ms/step - loss: 0.0276 - accuracy: 0.4693 - val_loss: 0.0269 - val_accuracy: 0.4816\n",
            "Epoch 40/40\n",
            "1328/1328 [==============================] - 10s 8ms/step - loss: 0.0276 - accuracy: 0.4695 - val_loss: 0.0269 - val_accuracy: 0.4842\n"
          ],
          "name": "stdout"
        }
      ]
    },
    {
      "cell_type": "markdown",
      "metadata": {
        "id": "EN0Jt4cCq2f5",
        "colab_type": "text"
      },
      "source": [
        "## Analyze Model Performance"
      ]
    },
    {
      "cell_type": "code",
      "metadata": {
        "id": "CYJ3V-991lr0",
        "colab_type": "code",
        "colab": {}
      },
      "source": [
        "from sklearn import metrics\n",
        "import numpy as np\n",
        "import pandas as pd\n",
        "import matplotlib.pyplot as plt\n",
        "from sklearn.preprocessing import LabelEncoder\n",
        "from sklearn.base import clone\n",
        "from sklearn.preprocessing import label_binarize\n",
        "from scipy import interp\n",
        "from sklearn.metrics import roc_curve, auc \n",
        "\n",
        "\n",
        "def get_metrics(true_labels, predicted_labels):\n",
        "    \n",
        "    print('Accuracy:', np.round(\n",
        "                        metrics.accuracy_score(true_labels, \n",
        "                                               predicted_labels),\n",
        "                        4))\n",
        "    print('Precision:', np.round(\n",
        "                        metrics.precision_score(true_labels, \n",
        "                                               predicted_labels,\n",
        "                                               average='weighted'),\n",
        "                        4))\n",
        "    print('Recall:', np.round(\n",
        "                        metrics.recall_score(true_labels, \n",
        "                                               predicted_labels,\n",
        "                                               average='weighted'),\n",
        "                        4))\n",
        "    print('F1 Score:', np.round(\n",
        "                        metrics.f1_score(true_labels, \n",
        "                                               predicted_labels,\n",
        "                                               average='weighted'),\n",
        "                        4))\n",
        "                        \n",
        "\n",
        "def train_predict_model(classifier, \n",
        "                        train_features, train_labels, \n",
        "                        test_features, test_labels):\n",
        "    # build model    \n",
        "    classifier.fit(train_features, train_labels)\n",
        "    # predict using model\n",
        "    predictions = classifier.predict(test_features) \n",
        "    return predictions    \n",
        "\n",
        "\n",
        "def display_confusion_matrix(true_labels, predicted_labels, classes=[1,0]):\n",
        "    \n",
        "    total_classes = len(classes)\n",
        "    level_labels = [total_classes*[0], list(range(total_classes))]\n",
        "\n",
        "    cm = metrics.confusion_matrix(y_true=true_labels, y_pred=predicted_labels, \n",
        "                                  labels=classes)\n",
        "    cm_frame = pd.DataFrame(data=cm, \n",
        "                            columns=pd.MultiIndex(levels=[['Predicted:'], classes], \n",
        "                                                  labels=level_labels), \n",
        "                            index=pd.MultiIndex(levels=[['Actual:'], classes], \n",
        "                                                labels=level_labels)) \n",
        "    print(cm_frame) \n",
        "    \n",
        "def display_classification_report(true_labels, predicted_labels, classes=[1,0]):\n",
        "\n",
        "    report = metrics.classification_report(y_true=true_labels, \n",
        "                                           y_pred=predicted_labels, \n",
        "                                           labels=classes) \n",
        "    print(report)\n",
        "    \n",
        "    \n",
        "    \n",
        "def display_model_performance_metrics(true_labels, predicted_labels, classes=[1,0]):\n",
        "    print('Model Performance metrics:')\n",
        "    print('-'*30)\n",
        "    get_metrics(true_labels=true_labels, predicted_labels=predicted_labels)\n",
        "    print('\\nModel Classification report:')\n",
        "    print('-'*30)\n",
        "    display_classification_report(true_labels=true_labels, predicted_labels=predicted_labels, \n",
        "                                  classes=classes)\n",
        "    print('\\nPrediction Confusion Matrix:')\n",
        "    print('-'*30)\n",
        "    display_confusion_matrix(true_labels=true_labels, predicted_labels=predicted_labels, \n",
        "                             classes=classes)\n",
        "\n",
        "\n",
        "def plot_model_decision_surface(clf, train_features, train_labels,\n",
        "                                plot_step=0.02, cmap=plt.cm.RdYlBu,\n",
        "                                markers=None, alphas=None, colors=None):\n",
        "    \n",
        "    if train_features.shape[1] != 2:\n",
        "        raise ValueError(\"X_train should have exactly 2 columnns!\")\n",
        "    \n",
        "    x_min, x_max = train_features[:, 0].min() - plot_step, train_features[:, 0].max() + plot_step\n",
        "    y_min, y_max = train_features[:, 1].min() - plot_step, train_features[:, 1].max() + plot_step\n",
        "    xx, yy = np.meshgrid(np.arange(x_min, x_max, plot_step),\n",
        "                         np.arange(y_min, y_max, plot_step))\n",
        "\n",
        "    clf_est = clone(clf)\n",
        "    clf_est.fit(train_features,train_labels)\n",
        "    if hasattr(clf_est, 'predict_proba'):\n",
        "        Z = clf_est.predict_proba(np.c_[xx.ravel(), yy.ravel()])[:,1]\n",
        "    else:\n",
        "        Z = clf_est.predict(np.c_[xx.ravel(), yy.ravel()])    \n",
        "    Z = Z.reshape(xx.shape)\n",
        "    cs = plt.contourf(xx, yy, Z, cmap=cmap)\n",
        "    \n",
        "    le = LabelEncoder()\n",
        "    y_enc = le.fit_transform(train_labels)\n",
        "    n_classes = len(le.classes_)\n",
        "    plot_colors = ''.join(colors) if colors else [None] * n_classes\n",
        "    label_names = le.classes_\n",
        "    markers = markers if markers else [None] * n_classes\n",
        "    alphas = alphas if alphas else [None] * n_classes\n",
        "    for i, color in zip(range(n_classes), plot_colors):\n",
        "        idx = np.where(y_enc == i)\n",
        "        plt.scatter(train_features[idx, 0], train_features[idx, 1], c=color,\n",
        "                    label=label_names[i], cmap=cmap, edgecolors='black', \n",
        "                    marker=markers[i], alpha=alphas[i])\n",
        "    plt.legend()\n",
        "    plt.show()\n",
        "\n",
        "\n",
        "def plot_model_roc_curve(clf, features, true_labels, label_encoder=None, class_names=None):\n",
        "    \n",
        "    ## Compute ROC curve and ROC area for each class\n",
        "    fpr = dict()\n",
        "    tpr = dict()\n",
        "    roc_auc = dict()\n",
        "    if hasattr(clf, 'classes_'):\n",
        "        class_labels = clf.classes_\n",
        "    elif label_encoder:\n",
        "        class_labels = label_encoder.classes_\n",
        "    elif class_names:\n",
        "        class_labels = class_names\n",
        "    else:\n",
        "        raise ValueError('Unable to derive prediction classes, please specify class_names!')\n",
        "    n_classes = len(class_labels)\n",
        "    y_test = label_binarize(true_labels, classes=class_labels)\n",
        "    if n_classes == 2:\n",
        "        if hasattr(clf, 'predict_proba'):\n",
        "            prob = clf.predict_proba(features)\n",
        "            y_score = prob[:, prob.shape[1]-1] \n",
        "        elif hasattr(clf, 'decision_function'):\n",
        "            prob = clf.decision_function(features)\n",
        "            y_score = prob[:, prob.shape[1]-1]\n",
        "        else:\n",
        "            raise AttributeError(\"Estimator doesn't have a probability or confidence scoring system!\")\n",
        "        \n",
        "        fpr, tpr, _ = roc_curve(y_test, y_score)      \n",
        "        roc_auc = auc(fpr, tpr)\n",
        "        plt.plot(fpr, tpr, label='ROC curve (area = {0:0.2f})'\n",
        "                                 ''.format(roc_auc),\n",
        "                 linewidth=2.5)\n",
        "        \n",
        "    elif n_classes > 2:\n",
        "        if hasattr(clf, 'predict_proba'):\n",
        "            y_score = clf.predict_proba(features)\n",
        "        elif hasattr(clf, 'decision_function'):\n",
        "            y_score = clf.decision_function(features)\n",
        "        else:\n",
        "            raise AttributeError(\"Estimator doesn't have a probability or confidence scoring system!\")\n",
        "\n",
        "        for i in range(n_classes):\n",
        "            fpr[i], tpr[i], _ = roc_curve(y_test[:, i], y_score[:, i])\n",
        "            roc_auc[i] = auc(fpr[i], tpr[i])\n",
        "\n",
        "        ## Compute micro-average ROC curve and ROC area\n",
        "        fpr[\"micro\"], tpr[\"micro\"], _ = roc_curve(y_test.ravel(), y_score.ravel())\n",
        "        roc_auc[\"micro\"] = auc(fpr[\"micro\"], tpr[\"micro\"])\n",
        "\n",
        "        ## Compute macro-average ROC curve and ROC area\n",
        "        # First aggregate all false positive rates\n",
        "        all_fpr = np.unique(np.concatenate([fpr[i] for i in range(n_classes)]))\n",
        "        # Then interpolate all ROC curves at this points\n",
        "        mean_tpr = np.zeros_like(all_fpr)\n",
        "        for i in range(n_classes):\n",
        "            mean_tpr += interp(all_fpr, fpr[i], tpr[i])\n",
        "        # Finally average it and compute AUC\n",
        "        mean_tpr /= n_classes\n",
        "        fpr[\"macro\"] = all_fpr\n",
        "        tpr[\"macro\"] = mean_tpr\n",
        "        roc_auc[\"macro\"] = auc(fpr[\"macro\"], tpr[\"macro\"])\n",
        "\n",
        "        ## Plot ROC curves\n",
        "        plt.figure(figsize=(6, 4))\n",
        "        plt.plot(fpr[\"micro\"], tpr[\"micro\"],\n",
        "                 label='micro-average ROC curve (area = {0:0.2f})'\n",
        "                       ''.format(roc_auc[\"micro\"]), linewidth=3)\n",
        "\n",
        "        plt.plot(fpr[\"macro\"], tpr[\"macro\"],\n",
        "                 label='macro-average ROC curve (area = {0:0.2f})'\n",
        "                       ''.format(roc_auc[\"macro\"]), linewidth=3)\n",
        "\n",
        "        for i, label in enumerate(class_labels):\n",
        "            plt.plot(fpr[i], tpr[i], label='ROC curve of class {0} (area = {1:0.2f})'\n",
        "                                           ''.format(label, roc_auc[i]), \n",
        "                     linewidth=2, linestyle=':')\n",
        "    else:\n",
        "        raise ValueError('Number of classes should be atleast 2 or more')\n",
        "        \n",
        "    plt.plot([0, 1], [0, 1], 'k--')\n",
        "    plt.xlim([0.0, 1.0])\n",
        "    plt.ylim([0.0, 1.05])\n",
        "    plt.xlabel('False Positive Rate')\n",
        "    plt.ylabel('True Positive Rate')\n",
        "    plt.title('Receiver Operating Characteristic (ROC) Curve')\n",
        "    plt.legend(loc=\"lower right\")\n",
        "    plt.show()"
      ],
      "execution_count": 21,
      "outputs": []
    },
    {
      "cell_type": "code",
      "metadata": {
        "colab_type": "code",
        "id": "ucbrAJdAerCe",
        "colab": {
          "base_uri": "https://localhost:8080/",
          "height": 517
        },
        "outputId": "a24d6965-5615-4810-df39-99ab5b16c4fd"
      },
      "source": [
        "f, (ax1, ax2) = plt.subplots(1, 2, figsize=(25, 7.5))\n",
        "t = f.suptitle('Deep Neural Net Performance', fontsize=12)\n",
        "f.subplots_adjust(top=0.85)\n",
        "\n",
        "epochs = list(range(1,EPOCHS+1))\n",
        "ax1.plot(epochs, history.history['accuracy'], label='Train Accuracy')\n",
        "ax1.plot(epochs, history.history['val_accuracy'], label='Validation Accuracy')\n",
        "ax1.set_xticks(epochs)\n",
        "ax1.set_ylabel('Accuracy Value')\n",
        "ax1.set_xlabel('Epoch')\n",
        "ax1.set_title('Accuracy')\n",
        "l1 = ax1.legend(loc=\"best\")\n",
        "\n",
        "ax2.plot(epochs, history.history['loss'], label='Train Loss')\n",
        "ax2.plot(epochs, history.history['val_loss'], label='Validation Loss')\n",
        "ax2.set_xticks(epochs)\n",
        "ax2.set_ylabel('Loss Value')\n",
        "ax2.set_xlabel('Epoch')\n",
        "ax2.set_title('Loss')\n",
        "l2 = ax2.legend(loc=\"best\")"
      ],
      "execution_count": 22,
      "outputs": [
        {
          "output_type": "display_data",
          "data": {
            "image/png": "[encoded data removed]",
            "text/plain": [
              "<Figure size 1800x540 with 2 Axes>"
            ]
          },
          "metadata": {
            "tags": [],
            "needs_background": "light"
          }
        }
      ]
    },
    {
      "cell_type": "code",
      "metadata": {
        "colab_type": "code",
        "id": "6O7_wTjerlCJ",
        "colab": {}
      },
      "source": [
        "predictions = model.predict(X_test/255.)"
      ],
      "execution_count": 23,
      "outputs": []
    },
    {
      "cell_type": "code",
      "metadata": {
        "colab_type": "code",
        "id": "-kXS6GcHrhP0",
        "colab": {}
      },
      "source": [
        "test_labels = list(y_test.squeeze())\n",
        "predictions = list(predictions.argmax(axis=1))"
      ],
      "execution_count": 24,
      "outputs": []
    },
    {
      "cell_type": "code",
      "metadata": {
        "colab_type": "code",
        "id": "lQ9T1O9vrdyI",
        "colab": {
          "base_uri": "https://localhost:8080/",
          "height": 84
        },
        "outputId": "624cc1a5-27e6-4be1-c6fe-fd45d5707f95"
      },
      "source": [
        "get_metrics(true_labels=y_test, \n",
        "                predicted_labels=predictions)"
      ],
      "execution_count": 25,
      "outputs": [
        {
          "output_type": "stream",
          "text": [
            "Accuracy: 0.4943\n",
            "Precision: 0.4856\n",
            "Recall: 0.4943\n",
            "F1 Score: 0.4854\n"
          ],
          "name": "stdout"
        }
      ]
    },
    {
      "cell_type": "code",
      "metadata": {
        "id": "tpfXPaZhEBg8",
        "colab_type": "code",
        "colab": {}
      },
      "source": [
        ""
      ],
      "execution_count": null,
      "outputs": []
    }
  ]
}