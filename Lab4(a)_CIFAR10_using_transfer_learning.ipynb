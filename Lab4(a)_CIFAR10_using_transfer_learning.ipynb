{
  "nbformat": 4,
  "nbformat_minor": 0,
  "metadata": {
    "accelerator": "GPU",
    "colab": {
      "name": "Lab4(a)-CIFAR10 using transfer learning.ipynb",
      "provenance": [],
      "collapsed_sections": []
    },
    "kernelspec": {
      "display_name": "Python 3",
      "language": "python",
      "name": "python3"
    },
    "language_info": {
      "codemirror_mode": {
        "name": "ipython",
        "version": 3
      },
      "file_extension": ".py",
      "mimetype": "text/x-python",
      "name": "python",
      "nbconvert_exporter": "python",
      "pygments_lexer": "ipython3",
      "version": "3.5.3"
    }
  },
  "cells": [
    {
      "cell_type": "markdown",
      "metadata": {
        "id": "sLIGEQt6q2et",
        "colab_type": "text"
      },
      "source": [
        "# CIFAR10 Transfer Learning based Classifier\n",
        "\n",
        "This notebook outlines the steps to build a classifier to leverage concepts of Transfer Learning by utilizing a pretrained Deep-CNN. \n",
        "Particularly in this case based on VGG16"
      ]
    },
    {
      "cell_type": "code",
      "metadata": {
        "colab_type": "code",
        "id": "qpwpUhVod2ob",
        "colab": {}
      },
      "source": [
        "# Pandas and Numpy for data structures and util fucntions\n",
        "import scipy as sp\n",
        "import numpy as np\n",
        "import pandas as pd\n",
        "from numpy.random import rand\n",
        "pd.options.display.max_colwidth = 600\n",
        "\n",
        "# Scikit Imports\n",
        "from sklearn import preprocessing\n",
        "from sklearn.metrics import roc_curve, auc, precision_recall_curve\n",
        "from sklearn.model_selection import train_test_split\n",
        "\n",
        "# import cnn_utils as utils\n",
        "# from model_evaluation_utils import get_metrics\n",
        "\n",
        "# Matplot Imports\n",
        "import matplotlib.pyplot as plt\n",
        "params = {'legend.fontsize': 'x-large',\n",
        "          'figure.figsize': (15, 5),\n",
        "          'axes.labelsize': 'x-large',\n",
        "          'axes.titlesize':'x-large',\n",
        "          'xtick.labelsize':'x-large',\n",
        "          'ytick.labelsize':'x-large'}\n",
        "\n",
        "plt.rcParams.update(params)\n",
        "%matplotlib inline\n",
        "\n",
        "# pandas display data frames as tables\n",
        "from IPython.display import display, HTML\n",
        "\n",
        "import warnings\n",
        "warnings.filterwarnings('ignore')"
      ],
      "execution_count": 3,
      "outputs": []
    },
    {
      "cell_type": "code",
      "metadata": {
        "colab_type": "code",
        "id": "VB1artr2KuLD",
        "colab": {}
      },
      "source": [
        "import tensorflow as tf\n",
        "from tensorflow.keras import callbacks\n",
        "from tensorflow.keras import optimizers\n",
        "from tensorflow.keras.datasets import cifar10\n",
        "# from tensorflow.python.keras.engine import Model\n",
        "from tensorflow.keras.applications import vgg16 as vgg\n",
        "from tensorflow.keras.layers import Dropout, Flatten, Dense, GlobalAveragePooling2D,BatchNormalization\n",
        "from tensorflow.keras.preprocessing.image import ImageDataGenerator\n",
        "from tensorflow.keras.utils import to_categorical"
      ],
      "execution_count": 5,
      "outputs": []
    },
    {
      "cell_type": "markdown",
      "metadata": {
        "id": "NZg3n7q6q2e6",
        "colab_type": "text"
      },
      "source": [
        "## Load and Prepare Dataset"
      ]
    },
    {
      "cell_type": "code",
      "metadata": {
        "colab_type": "code",
        "id": "fS8uGXn5dgRU",
        "colab": {}
      },
      "source": [
        "BATCH_SIZE = 32\n",
        "EPOCHS = 40\n",
        "NUM_CLASSES = 10\n",
        "LEARNING_RATE = 1e-4\n",
        "MOMENTUM = 0.9"
      ],
      "execution_count": 6,
      "outputs": []
    },
    {
      "cell_type": "code",
      "metadata": {
        "colab_type": "code",
        "id": "PoT9P1phLuyT",
        "colab": {
          "base_uri": "https://localhost:8080/",
          "height": 50
        },
        "outputId": "bc46e9da-92fd-48c8-d388-e2170b594278"
      },
      "source": [
        "(X_train, y_train), (X_test, y_test) = cifar10.load_data()"
      ],
      "execution_count": 7,
      "outputs": [
        {
          "output_type": "stream",
          "text": [
            "Downloading data from https://www.cs.toronto.edu/~kriz/cifar-10-python.tar.gz\n",
            "170500096/170498071 [==============================] - 11s 0us/step\n"
          ],
          "name": "stdout"
        }
      ]
    },
    {
      "cell_type": "markdown",
      "metadata": {
        "id": "cRyJgrOAq2fE",
        "colab_type": "text"
      },
      "source": [
        "Split training dataset in train and validation sets"
      ]
    },
    {
      "cell_type": "code",
      "metadata": {
        "colab_type": "code",
        "id": "khNrl8nHqesu",
        "colab": {}
      },
      "source": [
        "X_train, X_val, y_train, y_val = train_test_split(X_train, \n",
        "                                                  y_train, \n",
        "                                                  test_size=0.15, \n",
        "                                                  stratify=np.array(y_train), \n",
        "                                                  random_state=42)"
      ],
      "execution_count": 8,
      "outputs": []
    },
    {
      "cell_type": "markdown",
      "metadata": {
        "id": "iSDBRhw8q2fI",
        "colab_type": "text"
      },
      "source": [
        "Transform target variable/labels into one hot encoded form"
      ]
    },
    {
      "cell_type": "code",
      "metadata": {
        "colab_type": "code",
        "id": "IJdZ6DLUqu-P",
        "colab": {}
      },
      "source": [
        "Y_train = to_categorical(y_train, NUM_CLASSES)\n",
        "Y_val = to_categorical(y_val, NUM_CLASSES)\n",
        "Y_test = to_categorical(y_test, NUM_CLASSES)"
      ],
      "execution_count": 9,
      "outputs": []
    },
    {
      "cell_type": "markdown",
      "metadata": {
        "id": "RDPx9LAlq2fM",
        "colab_type": "text"
      },
      "source": [
        "### Preprocessing\n",
        "\n",
        "Since we are about to use VGG16 as a feature extractor, the minimum size of an image it takes is 48x48.\n",
        "We utilize ```scipy`` to resize images to required dimensions"
      ]
    },
    {
      "cell_type": "code",
      "metadata": {
        "colab_type": "code",
        "id": "6udZF8zHbTaR",
        "colab": {}
      },
      "source": [
        "from PIL import Image\n",
        "\n",
        "X_train = np.array([np.array(Image.fromarray(x).resize((48, 48))) for x in X_train])\n",
        "\n",
        "X_val = np.array([np.array(Image.fromarray(x).resize((48, 48))) for x in X_val])\n",
        "\n",
        "X_test = np.array([np.array(Image.fromarray(x).resize((48, 48))) for x in X_test])"
      ],
      "execution_count": 10,
      "outputs": []
    },
    {
      "cell_type": "markdown",
      "metadata": {
        "id": "qkW3VUixq2fR",
        "colab_type": "text"
      },
      "source": [
        "## Prepare the Model\n",
        "\n",
        "* Load VGG16 without the top classification layer\n",
        "* Prepare a custom classifier\n",
        "* Stack both models on top of each other"
      ]
    },
    {
      "cell_type": "code",
      "metadata": {
        "colab_type": "code",
        "id": "j2py7602Kxlq",
        "colab": {
          "base_uri": "https://localhost:8080/",
          "height": 50
        },
        "outputId": "1c4bc337-e1a6-4e88-a894-c870c093479b"
      },
      "source": [
        "base_model = vgg.VGG16(weights='imagenet', \n",
        "                       include_top=False, \n",
        "                       input_shape=(48, 48, 3))"
      ],
      "execution_count": 11,
      "outputs": [
        {
          "output_type": "stream",
          "text": [
            "Downloading data from https://storage.googleapis.com/tensorflow/keras-applications/vgg16/vgg16_weights_tf_dim_ordering_tf_kernels_notop.h5\n",
            "58892288/58889256 [==============================] - 2s 0us/step\n"
          ],
          "name": "stdout"
        }
      ]
    },
    {
      "cell_type": "code",
      "metadata": {
        "colab_type": "code",
        "id": "iI9P8ni-L8H8",
        "colab": {}
      },
      "source": [
        "# Extract the last layer from third block of vgg16 model\n",
        "last = base_model.get_layer('block3_pool').output"
      ],
      "execution_count": 12,
      "outputs": []
    },
    {
      "cell_type": "code",
      "metadata": {
        "colab_type": "code",
        "id": "MI90lh6hL9ua",
        "colab": {}
      },
      "source": [
        "# Add classification layers on top of it\n",
        "from tensorflow.keras import Model\n",
        "\n",
        "x = GlobalAveragePooling2D()(last)\n",
        "x= BatchNormalization()(x)\n",
        "x = Dense(256, activation='relu')(x)\n",
        "x = Dense(256, activation='relu')(x)\n",
        "x = Dropout(0.6)(x)\n",
        "pred = Dense(NUM_CLASSES, activation='softmax')(x)\n",
        "model = Model(base_model.input, pred)"
      ],
      "execution_count": 13,
      "outputs": []
    },
    {
      "cell_type": "markdown",
      "metadata": {
        "id": "PcLJqW-cq2fd",
        "colab_type": "text"
      },
      "source": [
        "Since our objective is to only train the custom classifier, we freeze the layers of VGG16"
      ]
    },
    {
      "cell_type": "code",
      "metadata": {
        "colab_type": "code",
        "id": "fc3EhfLTMD4I",
        "colab": {}
      },
      "source": [
        "for layer in base_model.layers:\n",
        "     layer.trainable = False"
      ],
      "execution_count": 14,
      "outputs": []
    },
    {
      "cell_type": "code",
      "metadata": {
        "colab_type": "code",
        "id": "PRXPI3DCMIIK",
        "colab": {}
      },
      "source": [
        "model.compile(loss='binary_crossentropy',\n",
        "              optimizer=optimizers.Adam(lr=LEARNING_RATE),\n",
        "              metrics=['accuracy'])"
      ],
      "execution_count": 15,
      "outputs": []
    },
    {
      "cell_type": "code",
      "metadata": {
        "colab_type": "code",
        "id": "PATZIBLlMLrf",
        "colab": {
          "base_uri": "https://localhost:8080/",
          "height": 722
        },
        "outputId": "10489030-1280-455e-9623-8e325f2818ac"
      },
      "source": [
        "model.summary()"
      ],
      "execution_count": 16,
      "outputs": [
        {
          "output_type": "stream",
          "text": [
            "Model: \"functional_1\"\n",
            "_________________________________________________________________\n",
            "Layer (type)                 Output Shape              Param #   \n",
            "=================================================================\n",
            "input_1 (InputLayer)         [(None, 48, 48, 3)]       0         \n",
            "_________________________________________________________________\n",
            "block1_conv1 (Conv2D)        (None, 48, 48, 64)        1792      \n",
            "_________________________________________________________________\n",
            "block1_conv2 (Conv2D)        (None, 48, 48, 64)        36928     \n",
            "_________________________________________________________________\n",
            "block1_pool (MaxPooling2D)   (None, 24, 24, 64)        0         \n",
            "_________________________________________________________________\n",
            "block2_conv1 (Conv2D)        (None, 24, 24, 128)       73856     \n",
            "_________________________________________________________________\n",
            "block2_conv2 (Conv2D)        (None, 24, 24, 128)       147584    \n",
            "_________________________________________________________________\n",
            "block2_pool (MaxPooling2D)   (None, 12, 12, 128)       0         \n",
            "_________________________________________________________________\n",
            "block3_conv1 (Conv2D)        (None, 12, 12, 256)       295168    \n",
            "_________________________________________________________________\n",
            "block3_conv2 (Conv2D)        (None, 12, 12, 256)       590080    \n",
            "_________________________________________________________________\n",
            "block3_conv3 (Conv2D)        (None, 12, 12, 256)       590080    \n",
            "_________________________________________________________________\n",
            "block3_pool (MaxPooling2D)   (None, 6, 6, 256)         0         \n",
            "_________________________________________________________________\n",
            "global_average_pooling2d (Gl (None, 256)               0         \n",
            "_________________________________________________________________\n",
            "batch_normalization (BatchNo (None, 256)               1024      \n",
            "_________________________________________________________________\n",
            "dense (Dense)                (None, 256)               65792     \n",
            "_________________________________________________________________\n",
            "dense_1 (Dense)              (None, 256)               65792     \n",
            "_________________________________________________________________\n",
            "dropout (Dropout)            (None, 256)               0         \n",
            "_________________________________________________________________\n",
            "dense_2 (Dense)              (None, 10)                2570      \n",
            "=================================================================\n",
            "Total params: 1,870,666\n",
            "Trainable params: 134,666\n",
            "Non-trainable params: 1,736,000\n",
            "_________________________________________________________________\n"
          ],
          "name": "stdout"
        }
      ]
    },
    {
      "cell_type": "markdown",
      "metadata": {
        "id": "f-XIeKhcq2fp",
        "colab_type": "text"
      },
      "source": [
        "## Data Augmentation\n",
        "\n",
        "To help model generalize and overcome the limitations of a small dataset, we prepare augmented datasets using \n",
        "```keras ``` utilities"
      ]
    },
    {
      "cell_type": "code",
      "metadata": {
        "colab_type": "code",
        "id": "_Y-jNseQMNcf",
        "colab": {}
      },
      "source": [
        "# prepare data augmentation configuration\n",
        "train_datagen = ImageDataGenerator(\n",
        "    rescale=1. / 255,\n",
        "    horizontal_flip=False)"
      ],
      "execution_count": 17,
      "outputs": []
    },
    {
      "cell_type": "code",
      "metadata": {
        "colab_type": "code",
        "id": "mHPmLOf-N3SQ",
        "colab": {}
      },
      "source": [
        "train_datagen.fit(X_train)\n",
        "train_generator = train_datagen.flow(X_train,\n",
        "                                     Y_train, \n",
        "                                     batch_size=BATCH_SIZE)"
      ],
      "execution_count": 18,
      "outputs": []
    },
    {
      "cell_type": "code",
      "metadata": {
        "colab_type": "code",
        "id": "JSIJycdbrBWK",
        "colab": {}
      },
      "source": [
        "val_datagen = ImageDataGenerator(rescale=1. / 255,\n",
        "    horizontal_flip=False)\n",
        "\n",
        "val_datagen.fit(X_val)\n",
        "val_generator = val_datagen.flow(X_val,\n",
        "                                 Y_val,\n",
        "                                 batch_size=BATCH_SIZE)"
      ],
      "execution_count": 19,
      "outputs": []
    },
    {
      "cell_type": "markdown",
      "metadata": {
        "id": "Pk6Vr7yVq2f1",
        "colab_type": "text"
      },
      "source": [
        "## Train the Model"
      ]
    },
    {
      "cell_type": "code",
      "metadata": {
        "colab_type": "code",
        "id": "upzna-SWcdVK",
        "scrolled": false,
        "colab": {
          "base_uri": "https://localhost:8080/",
          "height": 1000
        },
        "outputId": "1987cc0d-e5c7-4549-b59f-91e07b17bccf"
      },
      "source": [
        "train_steps_per_epoch = X_train.shape[0] // BATCH_SIZE\n",
        "val_steps_per_epoch = X_val.shape[0] // BATCH_SIZE\n",
        "\n",
        "history = model.fit_generator(train_generator,\n",
        "                              steps_per_epoch=train_steps_per_epoch,\n",
        "                              validation_data=val_generator,\n",
        "                              validation_steps=val_steps_per_epoch,\n",
        "                              epochs=EPOCHS,\n",
        "                              verbose=1)"
      ],
      "execution_count": 20,
      "outputs": [
        {
          "output_type": "stream",
          "text": [
            "WARNING:tensorflow:From <ipython-input-20-38ab0eb7bcd0>:9: Model.fit_generator (from tensorflow.python.keras.engine.training) is deprecated and will be removed in a future version.\n",
            "Instructions for updating:\n",
            "Please use Model.fit, which supports generators.\n",
            "Epoch 1/40\n",
            "1328/1328 [==============================] - 21s 16ms/step - loss: 0.2467 - accuracy: 0.4266 - val_loss: 0.1848 - val_accuracy: 0.6035\n",
            "Epoch 2/40\n",
            "1328/1328 [==============================] - 21s 16ms/step - loss: 0.1935 - accuracy: 0.5761 - val_loss: 0.1617 - val_accuracy: 0.6538\n",
            "Epoch 3/40\n",
            "1328/1328 [==============================] - 21s 16ms/step - loss: 0.1758 - accuracy: 0.6176 - val_loss: 0.1498 - val_accuracy: 0.6806\n",
            "Epoch 4/40\n",
            "1328/1328 [==============================] - 21s 16ms/step - loss: 0.1639 - accuracy: 0.6468 - val_loss: 0.1425 - val_accuracy: 0.7033\n",
            "Epoch 5/40\n",
            "1328/1328 [==============================] - 21s 16ms/step - loss: 0.1568 - accuracy: 0.6655 - val_loss: 0.1361 - val_accuracy: 0.7133\n",
            "Epoch 6/40\n",
            "1328/1328 [==============================] - 21s 16ms/step - loss: 0.1499 - accuracy: 0.6791 - val_loss: 0.1322 - val_accuracy: 0.7201\n",
            "Epoch 7/40\n",
            "1328/1328 [==============================] - 21s 16ms/step - loss: 0.1449 - accuracy: 0.6929 - val_loss: 0.1290 - val_accuracy: 0.7256\n",
            "Epoch 8/40\n",
            "1328/1328 [==============================] - 21s 16ms/step - loss: 0.1412 - accuracy: 0.7006 - val_loss: 0.1257 - val_accuracy: 0.7313\n",
            "Epoch 9/40\n",
            "1328/1328 [==============================] - 21s 16ms/step - loss: 0.1378 - accuracy: 0.7088 - val_loss: 0.1240 - val_accuracy: 0.7341\n",
            "Epoch 10/40\n",
            "1328/1328 [==============================] - 21s 16ms/step - loss: 0.1348 - accuracy: 0.7181 - val_loss: 0.1226 - val_accuracy: 0.7369\n",
            "Epoch 11/40\n",
            "1328/1328 [==============================] - 21s 16ms/step - loss: 0.1322 - accuracy: 0.7223 - val_loss: 0.1215 - val_accuracy: 0.7390\n",
            "Epoch 12/40\n",
            "1328/1328 [==============================] - 21s 16ms/step - loss: 0.1289 - accuracy: 0.7304 - val_loss: 0.1190 - val_accuracy: 0.7504\n",
            "Epoch 13/40\n",
            "1328/1328 [==============================] - 21s 16ms/step - loss: 0.1269 - accuracy: 0.7348 - val_loss: 0.1180 - val_accuracy: 0.7508\n",
            "Epoch 14/40\n",
            "1328/1328 [==============================] - 21s 16ms/step - loss: 0.1247 - accuracy: 0.7392 - val_loss: 0.1176 - val_accuracy: 0.7507\n",
            "Epoch 15/40\n",
            "1328/1328 [==============================] - 21s 16ms/step - loss: 0.1229 - accuracy: 0.7441 - val_loss: 0.1154 - val_accuracy: 0.7563\n",
            "Epoch 16/40\n",
            "1328/1328 [==============================] - 21s 16ms/step - loss: 0.1217 - accuracy: 0.7474 - val_loss: 0.1145 - val_accuracy: 0.7553\n",
            "Epoch 17/40\n",
            "1328/1328 [==============================] - 21s 16ms/step - loss: 0.1197 - accuracy: 0.7503 - val_loss: 0.1143 - val_accuracy: 0.7564\n",
            "Epoch 18/40\n",
            "1328/1328 [==============================] - 21s 16ms/step - loss: 0.1183 - accuracy: 0.7555 - val_loss: 0.1137 - val_accuracy: 0.7561\n",
            "Epoch 19/40\n",
            "1328/1328 [==============================] - 21s 16ms/step - loss: 0.1171 - accuracy: 0.7565 - val_loss: 0.1129 - val_accuracy: 0.7573\n",
            "Epoch 20/40\n",
            "1328/1328 [==============================] - 21s 16ms/step - loss: 0.1147 - accuracy: 0.7631 - val_loss: 0.1126 - val_accuracy: 0.7572\n",
            "Epoch 21/40\n",
            "1328/1328 [==============================] - 21s 16ms/step - loss: 0.1138 - accuracy: 0.7648 - val_loss: 0.1123 - val_accuracy: 0.7624\n",
            "Epoch 22/40\n",
            "1328/1328 [==============================] - 21s 16ms/step - loss: 0.1128 - accuracy: 0.7666 - val_loss: 0.1115 - val_accuracy: 0.7610\n",
            "Epoch 23/40\n",
            "1328/1328 [==============================] - 21s 16ms/step - loss: 0.1118 - accuracy: 0.7688 - val_loss: 0.1111 - val_accuracy: 0.7604\n",
            "Epoch 24/40\n",
            "1328/1328 [==============================] - 21s 16ms/step - loss: 0.1108 - accuracy: 0.7697 - val_loss: 0.1110 - val_accuracy: 0.7642\n",
            "Epoch 25/40\n",
            "1328/1328 [==============================] - 21s 16ms/step - loss: 0.1091 - accuracy: 0.7745 - val_loss: 0.1104 - val_accuracy: 0.7632\n",
            "Epoch 26/40\n",
            "1328/1328 [==============================] - 21s 16ms/step - loss: 0.1086 - accuracy: 0.7755 - val_loss: 0.1095 - val_accuracy: 0.7699\n",
            "Epoch 27/40\n",
            "1328/1328 [==============================] - 21s 16ms/step - loss: 0.1077 - accuracy: 0.7784 - val_loss: 0.1099 - val_accuracy: 0.7680\n",
            "Epoch 28/40\n",
            "1328/1328 [==============================] - 21s 16ms/step - loss: 0.1061 - accuracy: 0.7811 - val_loss: 0.1092 - val_accuracy: 0.7676\n",
            "Epoch 29/40\n",
            "1328/1328 [==============================] - 21s 16ms/step - loss: 0.1055 - accuracy: 0.7849 - val_loss: 0.1094 - val_accuracy: 0.7614\n",
            "Epoch 30/40\n",
            "1328/1328 [==============================] - 21s 16ms/step - loss: 0.1043 - accuracy: 0.7869 - val_loss: 0.1084 - val_accuracy: 0.7672\n",
            "Epoch 31/40\n",
            "1328/1328 [==============================] - 21s 16ms/step - loss: 0.1029 - accuracy: 0.7887 - val_loss: 0.1091 - val_accuracy: 0.7650\n",
            "Epoch 32/40\n",
            "1328/1328 [==============================] - 21s 16ms/step - loss: 0.1026 - accuracy: 0.7889 - val_loss: 0.1089 - val_accuracy: 0.7687\n",
            "Epoch 33/40\n",
            "1328/1328 [==============================] - 21s 16ms/step - loss: 0.1017 - accuracy: 0.7916 - val_loss: 0.1084 - val_accuracy: 0.7690\n",
            "Epoch 34/40\n",
            "1328/1328 [==============================] - 21s 16ms/step - loss: 0.1011 - accuracy: 0.7929 - val_loss: 0.1080 - val_accuracy: 0.7679\n",
            "Epoch 35/40\n",
            "1328/1328 [==============================] - 21s 16ms/step - loss: 0.0997 - accuracy: 0.7938 - val_loss: 0.1079 - val_accuracy: 0.7683\n",
            "Epoch 36/40\n",
            "1328/1328 [==============================] - 21s 16ms/step - loss: 0.0986 - accuracy: 0.7977 - val_loss: 0.1077 - val_accuracy: 0.7683\n",
            "Epoch 37/40\n",
            "1328/1328 [==============================] - 21s 16ms/step - loss: 0.0980 - accuracy: 0.7990 - val_loss: 0.1087 - val_accuracy: 0.7708\n",
            "Epoch 38/40\n",
            "1328/1328 [==============================] - 21s 16ms/step - loss: 0.0974 - accuracy: 0.8000 - val_loss: 0.1080 - val_accuracy: 0.7692\n",
            "Epoch 39/40\n",
            "1328/1328 [==============================] - 21s 16ms/step - loss: 0.0960 - accuracy: 0.8035 - val_loss: 0.1079 - val_accuracy: 0.7696\n",
            "Epoch 40/40\n",
            "1328/1328 [==============================] - 21s 16ms/step - loss: 0.0949 - accuracy: 0.8054 - val_loss: 0.1073 - val_accuracy: 0.7743\n"
          ],
          "name": "stdout"
        }
      ]
    },
    {
      "cell_type": "markdown",
      "metadata": {
        "id": "EN0Jt4cCq2f5",
        "colab_type": "text"
      },
      "source": [
        "## Analyze Model Performance"
      ]
    },
    {
      "cell_type": "code",
      "metadata": {
        "id": "CYJ3V-991lr0",
        "colab_type": "code",
        "colab": {}
      },
      "source": [
        "from sklearn import metrics\n",
        "import numpy as np\n",
        "import pandas as pd\n",
        "import matplotlib.pyplot as plt\n",
        "from sklearn.preprocessing import LabelEncoder\n",
        "from sklearn.base import clone\n",
        "from sklearn.preprocessing import label_binarize\n",
        "from scipy import interp\n",
        "from sklearn.metrics import roc_curve, auc \n",
        "\n",
        "\n",
        "def get_metrics(true_labels, predicted_labels):\n",
        "    \n",
        "    print('Accuracy:', np.round(\n",
        "                        metrics.accuracy_score(true_labels, \n",
        "                                               predicted_labels),\n",
        "                        4))\n",
        "    print('Precision:', np.round(\n",
        "                        metrics.precision_score(true_labels, \n",
        "                                               predicted_labels,\n",
        "                                               average='weighted'),\n",
        "                        4))\n",
        "    print('Recall:', np.round(\n",
        "                        metrics.recall_score(true_labels, \n",
        "                                               predicted_labels,\n",
        "                                               average='weighted'),\n",
        "                        4))\n",
        "    print('F1 Score:', np.round(\n",
        "                        metrics.f1_score(true_labels, \n",
        "                                               predicted_labels,\n",
        "                                               average='weighted'),\n",
        "                        4))\n",
        "                        \n",
        "\n",
        "def train_predict_model(classifier, \n",
        "                        train_features, train_labels, \n",
        "                        test_features, test_labels):\n",
        "    # build model    \n",
        "    classifier.fit(train_features, train_labels)\n",
        "    # predict using model\n",
        "    predictions = classifier.predict(test_features) \n",
        "    return predictions    \n",
        "\n",
        "\n",
        "def display_confusion_matrix(true_labels, predicted_labels, classes=[1,0]):\n",
        "    \n",
        "    total_classes = len(classes)\n",
        "    level_labels = [total_classes*[0], list(range(total_classes))]\n",
        "\n",
        "    cm = metrics.confusion_matrix(y_true=true_labels, y_pred=predicted_labels, \n",
        "                                  labels=classes)\n",
        "    cm_frame = pd.DataFrame(data=cm, \n",
        "                            columns=pd.MultiIndex(levels=[['Predicted:'], classes], \n",
        "                                                  labels=level_labels), \n",
        "                            index=pd.MultiIndex(levels=[['Actual:'], classes], \n",
        "                                                labels=level_labels)) \n",
        "    print(cm_frame) \n",
        "    \n",
        "def display_classification_report(true_labels, predicted_labels, classes=[1,0]):\n",
        "\n",
        "    report = metrics.classification_report(y_true=true_labels, \n",
        "                                           y_pred=predicted_labels, \n",
        "                                           labels=classes) \n",
        "    print(report)\n",
        "    \n",
        "    \n",
        "    \n",
        "def display_model_performance_metrics(true_labels, predicted_labels, classes=[1,0]):\n",
        "    print('Model Performance metrics:')\n",
        "    print('-'*30)\n",
        "    get_metrics(true_labels=true_labels, predicted_labels=predicted_labels)\n",
        "    print('\\nModel Classification report:')\n",
        "    print('-'*30)\n",
        "    display_classification_report(true_labels=true_labels, predicted_labels=predicted_labels, \n",
        "                                  classes=classes)\n",
        "    print('\\nPrediction Confusion Matrix:')\n",
        "    print('-'*30)\n",
        "    display_confusion_matrix(true_labels=true_labels, predicted_labels=predicted_labels, \n",
        "                             classes=classes)\n",
        "\n",
        "\n",
        "def plot_model_decision_surface(clf, train_features, train_labels,\n",
        "                                plot_step=0.02, cmap=plt.cm.RdYlBu,\n",
        "                                markers=None, alphas=None, colors=None):\n",
        "    \n",
        "    if train_features.shape[1] != 2:\n",
        "        raise ValueError(\"X_train should have exactly 2 columnns!\")\n",
        "    \n",
        "    x_min, x_max = train_features[:, 0].min() - plot_step, train_features[:, 0].max() + plot_step\n",
        "    y_min, y_max = train_features[:, 1].min() - plot_step, train_features[:, 1].max() + plot_step\n",
        "    xx, yy = np.meshgrid(np.arange(x_min, x_max, plot_step),\n",
        "                         np.arange(y_min, y_max, plot_step))\n",
        "\n",
        "    clf_est = clone(clf)\n",
        "    clf_est.fit(train_features,train_labels)\n",
        "    if hasattr(clf_est, 'predict_proba'):\n",
        "        Z = clf_est.predict_proba(np.c_[xx.ravel(), yy.ravel()])[:,1]\n",
        "    else:\n",
        "        Z = clf_est.predict(np.c_[xx.ravel(), yy.ravel()])    \n",
        "    Z = Z.reshape(xx.shape)\n",
        "    cs = plt.contourf(xx, yy, Z, cmap=cmap)\n",
        "    \n",
        "    le = LabelEncoder()\n",
        "    y_enc = le.fit_transform(train_labels)\n",
        "    n_classes = len(le.classes_)\n",
        "    plot_colors = ''.join(colors) if colors else [None] * n_classes\n",
        "    label_names = le.classes_\n",
        "    markers = markers if markers else [None] * n_classes\n",
        "    alphas = alphas if alphas else [None] * n_classes\n",
        "    for i, color in zip(range(n_classes), plot_colors):\n",
        "        idx = np.where(y_enc == i)\n",
        "        plt.scatter(train_features[idx, 0], train_features[idx, 1], c=color,\n",
        "                    label=label_names[i], cmap=cmap, edgecolors='black', \n",
        "                    marker=markers[i], alpha=alphas[i])\n",
        "    plt.legend()\n",
        "    plt.show()\n",
        "\n",
        "\n",
        "def plot_model_roc_curve(clf, features, true_labels, label_encoder=None, class_names=None):\n",
        "    \n",
        "    ## Compute ROC curve and ROC area for each class\n",
        "    fpr = dict()\n",
        "    tpr = dict()\n",
        "    roc_auc = dict()\n",
        "    if hasattr(clf, 'classes_'):\n",
        "        class_labels = clf.classes_\n",
        "    elif label_encoder:\n",
        "        class_labels = label_encoder.classes_\n",
        "    elif class_names:\n",
        "        class_labels = class_names\n",
        "    else:\n",
        "        raise ValueError('Unable to derive prediction classes, please specify class_names!')\n",
        "    n_classes = len(class_labels)\n",
        "    y_test = label_binarize(true_labels, classes=class_labels)\n",
        "    if n_classes == 2:\n",
        "        if hasattr(clf, 'predict_proba'):\n",
        "            prob = clf.predict_proba(features)\n",
        "            y_score = prob[:, prob.shape[1]-1] \n",
        "        elif hasattr(clf, 'decision_function'):\n",
        "            prob = clf.decision_function(features)\n",
        "            y_score = prob[:, prob.shape[1]-1]\n",
        "        else:\n",
        "            raise AttributeError(\"Estimator doesn't have a probability or confidence scoring system!\")\n",
        "        \n",
        "        fpr, tpr, _ = roc_curve(y_test, y_score)      \n",
        "        roc_auc = auc(fpr, tpr)\n",
        "        plt.plot(fpr, tpr, label='ROC curve (area = {0:0.2f})'\n",
        "                                 ''.format(roc_auc),\n",
        "                 linewidth=2.5)\n",
        "        \n",
        "    elif n_classes > 2:\n",
        "        if hasattr(clf, 'predict_proba'):\n",
        "            y_score = clf.predict_proba(features)\n",
        "        elif hasattr(clf, 'decision_function'):\n",
        "            y_score = clf.decision_function(features)\n",
        "        else:\n",
        "            raise AttributeError(\"Estimator doesn't have a probability or confidence scoring system!\")\n",
        "\n",
        "        for i in range(n_classes):\n",
        "            fpr[i], tpr[i], _ = roc_curve(y_test[:, i], y_score[:, i])\n",
        "            roc_auc[i] = auc(fpr[i], tpr[i])\n",
        "\n",
        "        ## Compute micro-average ROC curve and ROC area\n",
        "        fpr[\"micro\"], tpr[\"micro\"], _ = roc_curve(y_test.ravel(), y_score.ravel())\n",
        "        roc_auc[\"micro\"] = auc(fpr[\"micro\"], tpr[\"micro\"])\n",
        "\n",
        "        ## Compute macro-average ROC curve and ROC area\n",
        "        # First aggregate all false positive rates\n",
        "        all_fpr = np.unique(np.concatenate([fpr[i] for i in range(n_classes)]))\n",
        "        # Then interpolate all ROC curves at this points\n",
        "        mean_tpr = np.zeros_like(all_fpr)\n",
        "        for i in range(n_classes):\n",
        "            mean_tpr += interp(all_fpr, fpr[i], tpr[i])\n",
        "        # Finally average it and compute AUC\n",
        "        mean_tpr /= n_classes\n",
        "        fpr[\"macro\"] = all_fpr\n",
        "        tpr[\"macro\"] = mean_tpr\n",
        "        roc_auc[\"macro\"] = auc(fpr[\"macro\"], tpr[\"macro\"])\n",
        "\n",
        "        ## Plot ROC curves\n",
        "        plt.figure(figsize=(6, 4))\n",
        "        plt.plot(fpr[\"micro\"], tpr[\"micro\"],\n",
        "                 label='micro-average ROC curve (area = {0:0.2f})'\n",
        "                       ''.format(roc_auc[\"micro\"]), linewidth=3)\n",
        "\n",
        "        plt.plot(fpr[\"macro\"], tpr[\"macro\"],\n",
        "                 label='macro-average ROC curve (area = {0:0.2f})'\n",
        "                       ''.format(roc_auc[\"macro\"]), linewidth=3)\n",
        "\n",
        "        for i, label in enumerate(class_labels):\n",
        "            plt.plot(fpr[i], tpr[i], label='ROC curve of class {0} (area = {1:0.2f})'\n",
        "                                           ''.format(label, roc_auc[i]), \n",
        "                     linewidth=2, linestyle=':')\n",
        "    else:\n",
        "        raise ValueError('Number of classes should be atleast 2 or more')\n",
        "        \n",
        "    plt.plot([0, 1], [0, 1], 'k--')\n",
        "    plt.xlim([0.0, 1.0])\n",
        "    plt.ylim([0.0, 1.05])\n",
        "    plt.xlabel('False Positive Rate')\n",
        "    plt.ylabel('True Positive Rate')\n",
        "    plt.title('Receiver Operating Characteristic (ROC) Curve')\n",
        "    plt.legend(loc=\"lower right\")\n",
        "    plt.show()"
      ],
      "execution_count": 30,
      "outputs": []
    },
    {
      "cell_type": "code",
      "metadata": {
        "colab_type": "code",
        "id": "ucbrAJdAerCe",
        "colab": {
          "base_uri": "https://localhost:8080/",
          "height": 514
        },
        "outputId": "6cec3851-a470-48e2-f565-59d5701abcef"
      },
      "source": [
        "f, (ax1, ax2) = plt.subplots(1, 2, figsize=(25, 7.5))\n",
        "t = f.suptitle('Deep Neural Net Performance', fontsize=12)\n",
        "f.subplots_adjust(top=0.85)\n",
        "\n",
        "epochs = list(range(1,EPOCHS+1))\n",
        "ax1.plot(epochs, history.history['accuracy'], label='Train Accuracy')\n",
        "ax1.plot(epochs, history.history['val_accuracy'], label='Validation Accuracy')\n",
        "ax1.set_xticks(epochs)\n",
        "ax1.set_ylabel('Accuracy Value')\n",
        "ax1.set_xlabel('Epoch')\n",
        "ax1.set_title('Accuracy')\n",
        "l1 = ax1.legend(loc=\"best\")\n",
        "\n",
        "ax2.plot(epochs, history.history['loss'], label='Train Loss')\n",
        "ax2.plot(epochs, history.history['val_loss'], label='Validation Loss')\n",
        "ax2.set_xticks(epochs)\n",
        "ax2.set_ylabel('Loss Value')\n",
        "ax2.set_xlabel('Epoch')\n",
        "ax2.set_title('Loss')\n",
        "l2 = ax2.legend(loc=\"best\")"
      ],
      "execution_count": 31,
      "outputs": [
        {
          "output_type": "display_data",
          "data": {
            "image/png": "[encoded data removed]",
            "text/plain": [
              "<Figure size 1800x540 with 2 Axes>"
            ]
          },
          "metadata": {
            "tags": [],
            "needs_background": "light"
          }
        }
      ]
    },
    {
      "cell_type": "code",
      "metadata": {
        "colab_type": "code",
        "id": "6O7_wTjerlCJ",
        "colab": {}
      },
      "source": [
        "predictions = model.predict(X_test/255.)"
      ],
      "execution_count": 32,
      "outputs": []
    },
    {
      "cell_type": "code",
      "metadata": {
        "colab_type": "code",
        "id": "-kXS6GcHrhP0",
        "colab": {}
      },
      "source": [
        "test_labels = list(y_test.squeeze())\n",
        "predictions = list(predictions.argmax(axis=1))"
      ],
      "execution_count": 33,
      "outputs": []
    },
    {
      "cell_type": "code",
      "metadata": {
        "colab_type": "code",
        "id": "lQ9T1O9vrdyI",
        "colab": {
          "base_uri": "https://localhost:8080/",
          "height": 84
        },
        "outputId": "425b493d-9068-4b85-b87e-805d11078649"
      },
      "source": [
        "get_metrics(true_labels=y_test, \n",
        "                predicted_labels=predictions)"
      ],
      "execution_count": 34,
      "outputs": [
        {
          "output_type": "stream",
          "text": [
            "Accuracy: 0.7734\n",
            "Precision: 0.7717\n",
            "Recall: 0.7734\n",
            "F1 Score: 0.772\n"
          ],
          "name": "stdout"
        }
      ]
    },
    {
      "cell_type": "code",
      "metadata": {
        "id": "tpfXPaZhEBg8",
        "colab_type": "code",
        "colab": {}
      },
      "source": [
        ""
      ],
      "execution_count": 24,
      "outputs": []
    }
  ]
}